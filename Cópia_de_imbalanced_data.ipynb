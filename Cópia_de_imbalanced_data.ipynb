{
  "cells": [
    {
      "cell_type": "markdown",
      "metadata": {
        "id": "dUeKVCYTbcyT"
      },
      "source": [
        "#### Copyright 2019 The TensorFlow Authors."
      ]
    },
    {
      "cell_type": "code",
      "execution_count": null,
      "metadata": {
        "cellView": "form",
        "id": "4ellrPx7tdxq"
      },
      "outputs": [],
      "source": [
        "#@title Licensed under the Apache License, Version 2.0 (the \"License\");\n",
        "# you may not use this file except in compliance with the License.\n",
        "# You may obtain a copy of the License at\n",
        "#\n",
        "# https://www.apache.org/licenses/LICENSE-2.0\n",
        "#\n",
        "# Unless required by applicable law or agreed to in writing, software\n",
        "# distributed under the License is distributed on an \"AS IS\" BASIS,\n",
        "# WITHOUT WARRANTIES OR CONDITIONS OF ANY KIND, either express or implied.\n",
        "# See the License for the specific language governing permissions and\n",
        "# limitations under the License."
      ]
    },
    {
      "cell_type": "markdown",
      "metadata": {
        "id": "7JfLUlawto_D"
      },
      "source": [
        "# Classification on imbalanced data"
      ]
    },
    {
      "cell_type": "markdown",
      "metadata": {
        "id": "DwdpaTKJOoPu"
      },
      "source": [
        "<table class=\"tfo-notebook-buttons\" align=\"left\">\n",
        "  <td>\n",
        "    <a target=\"_blank\" href=\"https://www.tensorflow.org/tutorials/structured_data/imbalanced_data\"><img src=\"https://www.tensorflow.org/images/tf_logo_32px.png\" />View on TensorFlow.org</a>\n",
        "  </td>\n",
        "  <td>\n",
        "    <a target=\"_blank\" href=\"https://colab.research.google.com/github/tensorflow/docs/blob/master/site/en/tutorials/structured_data/imbalanced_data.ipynb\"><img src=\"https://www.tensorflow.org/images/colab_logo_32px.png\" />Run in Google Colab</a>\n",
        "  </td>\n",
        "  <td>\n",
        "    <a target=\"_blank\" href=\"https://github.com/tensorflow/docs/blob/master/site/en/tutorials/structured_data/imbalanced_data.ipynb\"><img src=\"https://www.tensorflow.org/images/GitHub-Mark-32px.png\" />View source on GitHub</a>\n",
        "  </td>\n",
        "  <td>\n",
        "    <a href=\"https://storage.googleapis.com/tensorflow_docs/docs/site/en/tutorials/structured_data/imbalanced_data.ipynb\"><img src=\"https://www.tensorflow.org/images/download_logo_32px.png\" />Download notebook</a>\n",
        "  </td>\n",
        "</table>"
      ]
    },
    {
      "cell_type": "markdown",
      "metadata": {
        "id": "mthoSGBAOoX-"
      },
      "source": [
        "This tutorial demonstrates how to classify a highly imbalanced dataset in which the number of examples in one class greatly outnumbers the examples in another. You will work with the [Credit Card Fraud Detection](https://www.kaggle.com/mlg-ulb/creditcardfraud) dataset hosted on Kaggle. The aim is to detect a mere 492 fraudulent transactions from 284,807 transactions in total. You will use [Keras](https://www.tensorflow.org/guide/keras/overview) to define the model and [class weights](https://www.tensorflow.org/versions/r2.0/api_docs/python/tf/keras/Model) to help the model learn from the imbalanced data. .\n",
        "\n",
        "This tutorial contains complete code to:\n",
        "\n",
        "* Load a CSV file using Pandas.\n",
        "* Create train, validation, and test sets.\n",
        "* Define and train a model using Keras (including setting class weights).\n",
        "* Evaluate the model using various metrics (including precision and recall).\n",
        "* Try common techniques for dealing with imbalanced data like:\n",
        "    * Class weighting \n",
        "    * Oversampling\n"
      ]
    },
    {
      "cell_type": "markdown",
      "metadata": {
        "id": "kRHmSyHxEIhN"
      },
      "source": [
        "## Setup"
      ]
    },
    {
      "cell_type": "code",
      "execution_count": 1,
      "metadata": {
        "id": "JM7hDSNClfoK"
      },
      "outputs": [],
      "source": [
        "import tensorflow as tf\n",
        "from tensorflow import keras\n",
        "\n",
        "import os\n",
        "import tempfile\n",
        "\n",
        "import matplotlib as mpl\n",
        "import matplotlib.pyplot as plt\n",
        "import numpy as np\n",
        "import pandas as pd\n",
        "import seaborn as sns\n",
        "\n",
        "import sklearn\n",
        "from sklearn.metrics import confusion_matrix\n",
        "from sklearn.model_selection import train_test_split\n",
        "from sklearn.preprocessing import LabelEncoder, StandardScaler"
      ]
    },
    {
      "cell_type": "code",
      "execution_count": 2,
      "metadata": {
        "id": "c8o1FHzD-_y_"
      },
      "outputs": [],
      "source": [
        "mpl.rcParams['figure.figsize'] = (12, 10)\n",
        "colors = plt.rcParams['axes.prop_cycle'].by_key()['color']"
      ]
    },
    {
      "cell_type": "markdown",
      "metadata": {
        "id": "Z3iZVjziKHmX"
      },
      "source": [
        "## Data processing and exploration"
      ]
    },
    {
      "cell_type": "markdown",
      "metadata": {
        "id": "4sA9WOcmzH2D"
      },
      "source": [
        "### Download the Kaggle Credit Card Fraud data set\n",
        "\n",
        "Pandas is a Python library with many helpful utilities for loading and working with structured data. It can be used to download CSVs into a Pandas [DataFrame](https://pandas.pydata.org/docs/reference/api/pandas.DataFrame.html#pandas.DataFrame).\n",
        "\n",
        "Note: This dataset has been collected and analysed during a research collaboration of Worldline and the [Machine Learning Group](http://mlg.ulb.ac.be) of ULB (Université Libre de Bruxelles) on big data mining and fraud detection. More details on current and past projects on related topics are available [here](https://www.researchgate.net/project/Fraud-detection-5) and the page of the [DefeatFraud](https://mlg.ulb.ac.be/wordpress/portfolio_page/defeatfraud-assessment-and-validation-of-deep-feature-engineering-and-learning-solutions-for-fraud-detection/) project"
      ]
    },
    {
      "cell_type": "code",
      "execution_count": 25,
      "metadata": {
        "colab": {
          "base_uri": "https://localhost:8080/"
        },
        "id": "qQQUAFaUuKYr",
        "outputId": "29fd7025-e6a2-4173-a449-d2de6dd5ea1c"
      },
      "outputs": [
        {
          "name": "stdout",
          "output_type": "stream",
          "text": [
            "Mounted at /content/drive\n"
          ]
        }
      ],
      "source": [
        "from google.colab import drive\n",
        "drive.mount('/content/drive')"
      ]
    },
    {
      "cell_type": "code",
      "execution_count": 26,
      "metadata": {
        "colab": {
          "base_uri": "https://localhost:8080/"
        },
        "id": "KE_bcLd0uLNf",
        "outputId": "72581626-6dc7-4fc4-9efc-3b8c93e88105"
      },
      "outputs": [
        {
          "name": "stdout",
          "output_type": "stream",
          "text": [
            "Mounted at /content/gdrive\n",
            "centralesupelec-summer-school-on-ai-2022.zip: Skipping, found more recently modified local copy (use --force to force download)\n",
            "Archive:  centralesupelec-summer-school-on-ai-2022.zip\n",
            "replace sample_submission.csv? [y]es, [n]o, [A]ll, [N]one, [r]ename: centralesupelec-summer-school-on-ai-2022.zip  sample_data\t     test.csv\n",
            "drive\t\t\t\t\t      sample_submission.csv  train.csv\n",
            "gdrive\t\t\t\t\t      skeleton_code.py\n"
          ]
        }
      ],
      "source": [
        "from google.colab import drive\n",
        "drive.mount(\"/content/gdrive\", force_remount=True)\n",
        "#!pip install kaggle\n",
        "os.environ['KAGGLE_CONFIG_DIR'] = \"/content/gdrive/MyDrive/\"\n",
        "!cd gdrive/MyDrive/paris-saclay-ai-competition\n",
        "!kaggle competitions download -c centralesupelec-summer-school-on-ai-2022\n",
        "!unzip centralesupelec-summer-school-on-ai-2022.zip\n",
        "!ls"
      ]
    },
    {
      "cell_type": "code",
      "execution_count": 3,
      "metadata": {
        "colab": {
          "base_uri": "https://localhost:8080/",
          "height": 206
        },
        "id": "pR_SnbMArXr7",
        "outputId": "493967a7-4932-4f85-9dff-101a190014fa"
      },
      "outputs": [
        {
          "data": {
            "text/html": [
              "<div>\n",
              "<style scoped>\n",
              "    .dataframe tbody tr th:only-of-type {\n",
              "        vertical-align: middle;\n",
              "    }\n",
              "\n",
              "    .dataframe tbody tr th {\n",
              "        vertical-align: top;\n",
              "    }\n",
              "\n",
              "    .dataframe thead th {\n",
              "        text-align: right;\n",
              "    }\n",
              "</style>\n",
              "<table border=\"1\" class=\"dataframe\">\n",
              "  <thead>\n",
              "    <tr style=\"text-align: right;\">\n",
              "      <th></th>\n",
              "      <th>date</th>\n",
              "      <th>org</th>\n",
              "      <th>tld</th>\n",
              "      <th>ccs</th>\n",
              "      <th>bcced</th>\n",
              "      <th>mail_type</th>\n",
              "      <th>images</th>\n",
              "      <th>urls</th>\n",
              "      <th>salutations</th>\n",
              "      <th>designation</th>\n",
              "      <th>chars_in_subject</th>\n",
              "      <th>chars_in_body</th>\n",
              "      <th>label</th>\n",
              "    </tr>\n",
              "  </thead>\n",
              "  <tbody>\n",
              "    <tr>\n",
              "      <th>0</th>\n",
              "      <td>Mon, 6 Nov 2017 11:13:45 +0100</td>\n",
              "      <td>reply</td>\n",
              "      <td>ebay.in</td>\n",
              "      <td>0</td>\n",
              "      <td>0</td>\n",
              "      <td>multipart/alternative</td>\n",
              "      <td>35</td>\n",
              "      <td>120</td>\n",
              "      <td>0</td>\n",
              "      <td>0</td>\n",
              "      <td>49.0</td>\n",
              "      <td>80027</td>\n",
              "      <td>2</td>\n",
              "    </tr>\n",
              "    <tr>\n",
              "      <th>1</th>\n",
              "      <td>Wed, 14 Feb 2018 11:00:16 -0000</td>\n",
              "      <td>edm</td>\n",
              "      <td>efinmail.com</td>\n",
              "      <td>0</td>\n",
              "      <td>0</td>\n",
              "      <td>multipart/alternative</td>\n",
              "      <td>1</td>\n",
              "      <td>7</td>\n",
              "      <td>0</td>\n",
              "      <td>0</td>\n",
              "      <td>107.0</td>\n",
              "      <td>2961</td>\n",
              "      <td>1</td>\n",
              "    </tr>\n",
              "    <tr>\n",
              "      <th>2</th>\n",
              "      <td>Wed, 6 Jul 2016 19:53:37 +0000</td>\n",
              "      <td>usebackpack</td>\n",
              "      <td>com</td>\n",
              "      <td>0</td>\n",
              "      <td>0</td>\n",
              "      <td>text/html</td>\n",
              "      <td>4</td>\n",
              "      <td>17</td>\n",
              "      <td>0</td>\n",
              "      <td>0</td>\n",
              "      <td>35.0</td>\n",
              "      <td>25149</td>\n",
              "      <td>1</td>\n",
              "    </tr>\n",
              "    <tr>\n",
              "      <th>3</th>\n",
              "      <td>Fri, 11 Oct 2019 11:25:40 +0200</td>\n",
              "      <td>granular</td>\n",
              "      <td>ai</td>\n",
              "      <td>0</td>\n",
              "      <td>0</td>\n",
              "      <td>multipart/mixed</td>\n",
              "      <td>0</td>\n",
              "      <td>0</td>\n",
              "      <td>0</td>\n",
              "      <td>0</td>\n",
              "      <td>15.0</td>\n",
              "      <td>635296</td>\n",
              "      <td>1</td>\n",
              "    </tr>\n",
              "    <tr>\n",
              "      <th>4</th>\n",
              "      <td>Tue, 07 Nov 2017 11:07:18 +0000 (UTC)</td>\n",
              "      <td>github</td>\n",
              "      <td>com</td>\n",
              "      <td>1</td>\n",
              "      <td>0</td>\n",
              "      <td>multipart/alternative</td>\n",
              "      <td>2</td>\n",
              "      <td>11</td>\n",
              "      <td>0</td>\n",
              "      <td>0</td>\n",
              "      <td>49.0</td>\n",
              "      <td>2355</td>\n",
              "      <td>1</td>\n",
              "    </tr>\n",
              "  </tbody>\n",
              "</table>\n",
              "</div>"
            ],
            "text/plain": [
              "                                    date          org           tld  ccs  \\\n",
              "0         Mon, 6 Nov 2017 11:13:45 +0100        reply       ebay.in    0   \n",
              "1        Wed, 14 Feb 2018 11:00:16 -0000          edm  efinmail.com    0   \n",
              "2         Wed, 6 Jul 2016 19:53:37 +0000  usebackpack           com    0   \n",
              "3        Fri, 11 Oct 2019 11:25:40 +0200     granular            ai    0   \n",
              "4  Tue, 07 Nov 2017 11:07:18 +0000 (UTC)       github           com    1   \n",
              "\n",
              "   bcced              mail_type  images  urls  salutations  designation  \\\n",
              "0      0  multipart/alternative      35   120            0            0   \n",
              "1      0  multipart/alternative       1     7            0            0   \n",
              "2      0              text/html       4    17            0            0   \n",
              "3      0        multipart/mixed       0     0            0            0   \n",
              "4      0  multipart/alternative       2    11            0            0   \n",
              "\n",
              "   chars_in_subject  chars_in_body  label  \n",
              "0              49.0          80027      2  \n",
              "1             107.0           2961      1  \n",
              "2              35.0          25149      1  \n",
              "3              15.0         635296      1  \n",
              "4              49.0           2355      1  "
            ]
          },
          "execution_count": 3,
          "metadata": {},
          "output_type": "execute_result"
        }
      ],
      "source": [
        "file = tf.keras.utils\n",
        "raw_df = pd.read_csv('./train.csv/train.csv', index_col=0)\n",
        "final_test_df = pd.read_csv('./test.csv/test.csv', index_col=0)\n",
        "raw_df.head()\n"
      ]
    },
    {
      "cell_type": "code",
      "execution_count": null,
      "metadata": {
        "colab": {
          "base_uri": "https://localhost:8080/",
          "height": 300
        },
        "id": "-fgdQgmwUFuj",
        "outputId": "65e96108-acdd-4ae4-9c23-79c5e9b0e174"
      },
      "outputs": [
        {
          "data": {
            "text/html": [
              "\n",
              "  <div id=\"df-775fa03c-c563-4713-998f-393a9d44f4c6\">\n",
              "    <div class=\"colab-df-container\">\n",
              "      <div>\n",
              "<style scoped>\n",
              "    .dataframe tbody tr th:only-of-type {\n",
              "        vertical-align: middle;\n",
              "    }\n",
              "\n",
              "    .dataframe tbody tr th {\n",
              "        vertical-align: top;\n",
              "    }\n",
              "\n",
              "    .dataframe thead th {\n",
              "        text-align: right;\n",
              "    }\n",
              "</style>\n",
              "<table border=\"1\" class=\"dataframe\">\n",
              "  <thead>\n",
              "    <tr style=\"text-align: right;\">\n",
              "      <th></th>\n",
              "      <th>ccs</th>\n",
              "      <th>bcced</th>\n",
              "      <th>images</th>\n",
              "      <th>urls</th>\n",
              "      <th>salutations</th>\n",
              "      <th>designation</th>\n",
              "      <th>chars_in_subject</th>\n",
              "      <th>chars_in_body</th>\n",
              "    </tr>\n",
              "  </thead>\n",
              "  <tbody>\n",
              "    <tr>\n",
              "      <th>count</th>\n",
              "      <td>80176.000000</td>\n",
              "      <td>80176.000000</td>\n",
              "      <td>80176.000000</td>\n",
              "      <td>80176.000000</td>\n",
              "      <td>80176.000000</td>\n",
              "      <td>80176.000000</td>\n",
              "      <td>80160.000000</td>\n",
              "      <td>8.017600e+04</td>\n",
              "    </tr>\n",
              "    <tr>\n",
              "      <th>mean</th>\n",
              "      <td>0.473259</td>\n",
              "      <td>0.002869</td>\n",
              "      <td>7.875998</td>\n",
              "      <td>34.433172</td>\n",
              "      <td>0.406381</td>\n",
              "      <td>0.104246</td>\n",
              "      <td>51.535254</td>\n",
              "      <td>1.971784e+05</td>\n",
              "    </tr>\n",
              "    <tr>\n",
              "      <th>std</th>\n",
              "      <td>3.178805</td>\n",
              "      <td>0.053484</td>\n",
              "      <td>305.444093</td>\n",
              "      <td>97.904682</td>\n",
              "      <td>0.491160</td>\n",
              "      <td>0.305581</td>\n",
              "      <td>33.718283</td>\n",
              "      <td>1.890130e+06</td>\n",
              "    </tr>\n",
              "    <tr>\n",
              "      <th>min</th>\n",
              "      <td>0.000000</td>\n",
              "      <td>0.000000</td>\n",
              "      <td>0.000000</td>\n",
              "      <td>0.000000</td>\n",
              "      <td>0.000000</td>\n",
              "      <td>0.000000</td>\n",
              "      <td>0.000000</td>\n",
              "      <td>4.000000e+00</td>\n",
              "    </tr>\n",
              "    <tr>\n",
              "      <th>25%</th>\n",
              "      <td>0.000000</td>\n",
              "      <td>0.000000</td>\n",
              "      <td>0.000000</td>\n",
              "      <td>4.000000</td>\n",
              "      <td>0.000000</td>\n",
              "      <td>0.000000</td>\n",
              "      <td>32.000000</td>\n",
              "      <td>4.651000e+03</td>\n",
              "    </tr>\n",
              "    <tr>\n",
              "      <th>50%</th>\n",
              "      <td>0.000000</td>\n",
              "      <td>0.000000</td>\n",
              "      <td>2.000000</td>\n",
              "      <td>17.000000</td>\n",
              "      <td>0.000000</td>\n",
              "      <td>0.000000</td>\n",
              "      <td>42.000000</td>\n",
              "      <td>1.999950e+04</td>\n",
              "    </tr>\n",
              "    <tr>\n",
              "      <th>75%</th>\n",
              "      <td>0.000000</td>\n",
              "      <td>0.000000</td>\n",
              "      <td>8.000000</td>\n",
              "      <td>44.000000</td>\n",
              "      <td>1.000000</td>\n",
              "      <td>0.000000</td>\n",
              "      <td>62.000000</td>\n",
              "      <td>4.519300e+04</td>\n",
              "    </tr>\n",
              "    <tr>\n",
              "      <th>max</th>\n",
              "      <td>179.000000</td>\n",
              "      <td>1.000000</td>\n",
              "      <td>83481.000000</td>\n",
              "      <td>21540.000000</td>\n",
              "      <td>1.000000</td>\n",
              "      <td>1.000000</td>\n",
              "      <td>606.000000</td>\n",
              "      <td>7.438108e+07</td>\n",
              "    </tr>\n",
              "  </tbody>\n",
              "</table>\n",
              "</div>\n",
              "      <button class=\"colab-df-convert\" onclick=\"convertToInteractive('df-775fa03c-c563-4713-998f-393a9d44f4c6')\"\n",
              "              title=\"Convert this dataframe to an interactive table.\"\n",
              "              style=\"display:none;\">\n",
              "        \n",
              "  <svg xmlns=\"http://www.w3.org/2000/svg\" height=\"24px\"viewBox=\"0 0 24 24\"\n",
              "       width=\"24px\">\n",
              "    <path d=\"M0 0h24v24H0V0z\" fill=\"none\"/>\n",
              "    <path d=\"M18.56 5.44l.94 2.06.94-2.06 2.06-.94-2.06-.94-.94-2.06-.94 2.06-2.06.94zm-11 1L8.5 8.5l.94-2.06 2.06-.94-2.06-.94L8.5 2.5l-.94 2.06-2.06.94zm10 10l.94 2.06.94-2.06 2.06-.94-2.06-.94-.94-2.06-.94 2.06-2.06.94z\"/><path d=\"M17.41 7.96l-1.37-1.37c-.4-.4-.92-.59-1.43-.59-.52 0-1.04.2-1.43.59L10.3 9.45l-7.72 7.72c-.78.78-.78 2.05 0 2.83L4 21.41c.39.39.9.59 1.41.59.51 0 1.02-.2 1.41-.59l7.78-7.78 2.81-2.81c.8-.78.8-2.07 0-2.86zM5.41 20L4 18.59l7.72-7.72 1.47 1.35L5.41 20z\"/>\n",
              "  </svg>\n",
              "      </button>\n",
              "      \n",
              "  <style>\n",
              "    .colab-df-container {\n",
              "      display:flex;\n",
              "      flex-wrap:wrap;\n",
              "      gap: 12px;\n",
              "    }\n",
              "\n",
              "    .colab-df-convert {\n",
              "      background-color: #E8F0FE;\n",
              "      border: none;\n",
              "      border-radius: 50%;\n",
              "      cursor: pointer;\n",
              "      display: none;\n",
              "      fill: #1967D2;\n",
              "      height: 32px;\n",
              "      padding: 0 0 0 0;\n",
              "      width: 32px;\n",
              "    }\n",
              "\n",
              "    .colab-df-convert:hover {\n",
              "      background-color: #E2EBFA;\n",
              "      box-shadow: 0px 1px 2px rgba(60, 64, 67, 0.3), 0px 1px 3px 1px rgba(60, 64, 67, 0.15);\n",
              "      fill: #174EA6;\n",
              "    }\n",
              "\n",
              "    [theme=dark] .colab-df-convert {\n",
              "      background-color: #3B4455;\n",
              "      fill: #D2E3FC;\n",
              "    }\n",
              "\n",
              "    [theme=dark] .colab-df-convert:hover {\n",
              "      background-color: #434B5C;\n",
              "      box-shadow: 0px 1px 3px 1px rgba(0, 0, 0, 0.15);\n",
              "      filter: drop-shadow(0px 1px 2px rgba(0, 0, 0, 0.3));\n",
              "      fill: #FFFFFF;\n",
              "    }\n",
              "  </style>\n",
              "\n",
              "      <script>\n",
              "        const buttonEl =\n",
              "          document.querySelector('#df-775fa03c-c563-4713-998f-393a9d44f4c6 button.colab-df-convert');\n",
              "        buttonEl.style.display =\n",
              "          google.colab.kernel.accessAllowed ? 'block' : 'none';\n",
              "\n",
              "        async function convertToInteractive(key) {\n",
              "          const element = document.querySelector('#df-775fa03c-c563-4713-998f-393a9d44f4c6');\n",
              "          const dataTable =\n",
              "            await google.colab.kernel.invokeFunction('convertToInteractive',\n",
              "                                                     [key], {});\n",
              "          if (!dataTable) return;\n",
              "\n",
              "          const docLinkHtml = 'Like what you see? Visit the ' +\n",
              "            '<a target=\"_blank\" href=https://colab.research.google.com/notebooks/data_table.ipynb>data table notebook</a>'\n",
              "            + ' to learn more about interactive tables.';\n",
              "          element.innerHTML = '';\n",
              "          dataTable['output_type'] = 'display_data';\n",
              "          await google.colab.output.renderOutput(dataTable, element);\n",
              "          const docLink = document.createElement('div');\n",
              "          docLink.innerHTML = docLinkHtml;\n",
              "          element.appendChild(docLink);\n",
              "        }\n",
              "      </script>\n",
              "    </div>\n",
              "  </div>\n",
              "  "
            ],
            "text/plain": [
              "                ccs         bcced        images          urls   salutations  \\\n",
              "count  80176.000000  80176.000000  80176.000000  80176.000000  80176.000000   \n",
              "mean       0.473259      0.002869      7.875998     34.433172      0.406381   \n",
              "std        3.178805      0.053484    305.444093     97.904682      0.491160   \n",
              "min        0.000000      0.000000      0.000000      0.000000      0.000000   \n",
              "25%        0.000000      0.000000      0.000000      4.000000      0.000000   \n",
              "50%        0.000000      0.000000      2.000000     17.000000      0.000000   \n",
              "75%        0.000000      0.000000      8.000000     44.000000      1.000000   \n",
              "max      179.000000      1.000000  83481.000000  21540.000000      1.000000   \n",
              "\n",
              "        designation  chars_in_subject  chars_in_body  \n",
              "count  80176.000000      80160.000000   8.017600e+04  \n",
              "mean       0.104246         51.535254   1.971784e+05  \n",
              "std        0.305581         33.718283   1.890130e+06  \n",
              "min        0.000000          0.000000   4.000000e+00  \n",
              "25%        0.000000         32.000000   4.651000e+03  \n",
              "50%        0.000000         42.000000   1.999950e+04  \n",
              "75%        0.000000         62.000000   4.519300e+04  \n",
              "max        1.000000        606.000000   7.438108e+07  "
            ]
          },
          "execution_count": 17,
          "metadata": {},
          "output_type": "execute_result"
        }
      ],
      "source": [
        "raw_df[['date', 'org', 'tld', 'ccs', 'bcced', 'mail_type', 'images', 'urls', 'salutations', 'designation', 'chars_in_subject', 'chars_in_body']].describe()"
      ]
    },
    {
      "cell_type": "markdown",
      "metadata": {
        "id": "xWKB_CVZFLpB"
      },
      "source": [
        "### Examine the class label imbalance\n",
        "\n",
        "Let's look at the dataset imbalance:"
      ]
    },
    {
      "cell_type": "markdown",
      "metadata": {
        "id": "KnLKFQDsCBUg"
      },
      "source": [
        "This shows the small fraction of positive samples."
      ]
    },
    {
      "cell_type": "markdown",
      "metadata": {
        "id": "6qox6ryyzwdr"
      },
      "source": [
        "### Clean, split and normalize the data\n",
        "\n",
        "The raw data has a few issues. First the `Time` and `Amount` columns are too variable to use directly. Drop the `Time` column (since it's not clear what it means) and take the log of the `Amount` column to reduce its range."
      ]
    },
    {
      "cell_type": "code",
      "execution_count": 4,
      "metadata": {
        "id": "Ef42jTuxEjnj"
      },
      "outputs": [],
      "source": [
        "cleaned_df = raw_df.copy()\n",
        "\n",
        "# The `Amount` column covers a huge range. Convert to log-space.\n",
        "eps = 0.001 # 0 => 0.1¢\n",
        "cleaned_df['log_images'] = np.log(cleaned_df.pop('images')+eps)\n",
        "cleaned_df['log_urls'] = np.log(cleaned_df.pop('urls')+eps)\n",
        "cleaned_df['log_chars_in_body'] = np.log(cleaned_df.pop('chars_in_body')+eps)\n",
        "\n",
        "# Parse dates and put in unix format\n",
        "\n",
        "from dateutil import parser\n",
        "from datetime import datetime\n",
        "import time\n",
        "\n",
        "def to_unix(date):\n",
        "  return int(time.mktime(date.timetuple()))\n",
        "\n",
        "def strip_formatting(date_string):\n",
        "  first_paren = date_string.find(\" (\")\n",
        "  if first_paren != -1:\n",
        "    return date_string[:first_paren]\n",
        "  return date_string\n",
        "\n",
        "def string_to_unix(date_string):\n",
        "  date_time = parser.parse(strip_formatting(date_string))\n",
        "  return to_unix(date_time)\n",
        "\n",
        "def datetime_obj(date_string):\n",
        "  unix_time = string_to_unix(date_string)\n",
        "  return datetime.fromtimestamp(unix_time)\n",
        "\n",
        "def has_weekday(date_string):\n",
        "  return date_string[0].isalpha()\n",
        "\n",
        "def has_parentheses(date_string):\n",
        "  return date_string.find(\"(\") != -1\n",
        "\n",
        "# train_df['date'][382] has parentheses\n",
        "# train_df['date][924] has no weekday\n",
        "\n",
        "# add new columns to data\n",
        "cleaned_df['date_has_weekday'] = cleaned_df.apply(lambda row: has_weekday(row['date']), axis=1)\n",
        "cleaned_df['date_has_parentheses'] = cleaned_df.apply(lambda row: has_parentheses(row['date']), axis=1)\n",
        "final_test_df['date_has_weekday'] = final_test_df.apply(lambda row: has_weekday(row['date']), axis=1)\n",
        "final_test_df['date_has_parentheses'] = final_test_df.apply(lambda row: has_parentheses(row['date']), axis=1)\n",
        "# make date unix style\n",
        "cleaned_df['date'] = cleaned_df.apply(lambda row: pd.Period(datetime_obj(row['date']), freq='H').day_of_year, axis=1)\n",
        "final_test_df['date'] = final_test_df.apply(lambda row: pd.Period(datetime_obj(row['date']), freq='H').day_of_year, axis=1)\n"
      ]
    },
    {
      "cell_type": "code",
      "execution_count": 5,
      "metadata": {
        "colab": {
          "base_uri": "https://localhost:8080/"
        },
        "id": "A8Zej0cm0BUZ",
        "outputId": "5789336a-fdb5-4c2a-9632-6ca70a5ceac3"
      },
      "outputs": [
        {
          "name": "stdout",
          "output_type": "stream",
          "text": [
            "['af', 'ax', 'al', 'dz', 'as', 'ad', 'ao', 'ai', 'aq', 'ag', 'ar', 'am', 'aw', 'ac', 'au', 'at', 'az', 'bs', 'bh', 'bd', 'bb', 'eus', 'by', 'be', 'bz', 'bj', 'bm', 'bt', 'bo', 'bq', 'an', 'nl', 'ba', 'bw', 'bv', 'br', 'io', 'vg', 'bn', 'bg', 'bf', 'mm', 'bi', 'kh', 'cm', 'ca', 'cv', 'cat', 'ky', 'cf', 'td', 'cl', 'cn', 'cx', 'cc', 'co', 'km', 'cd', 'cg', 'ck', 'cr', 'ci', 'hr', 'cu', 'cw', 'cy', 'cz', 'dk', 'dj', 'dm', 'do', 'tl', 'tp', 'ec', 'eg', 'sv', 'gq', 'er', 'ee', 'et', 'eu', 'fk', 'fo', 'fm', 'fj', 'fi', 'fr', 'gf', 'pf', 'tf', 'ga', 'gal', 'gm', 'ps', 'ge', 'de', 'gh', 'gi', 'gr', 'gl', 'gd', 'gp', 'gu', 'gt', 'gg', 'gn', 'gw', 'gy', 'ht', 'hm', 'hn', 'hk', 'hu', 'is', 'in', 'id', 'ir', 'iq', 'ie', 'im', 'il', 'it', 'jm', 'jp', 'je', 'jo', 'kz', 'ke', 'ki', 'kw', 'kg', 'la', 'lv', 'lb', 'ls', 'lr', 'ly', 'li', 'lt', 'lu', 'mo', 'mk', 'mg', 'mw', 'my', 'mv', 'ml', 'mt', 'mh', 'mq', 'mr', 'mu', 'yt', 'mx', 'md', 'mc', 'mn', 'me', 'ms', 'ma', 'mz', 'na', 'nr', 'np', 'nc', 'nz', 'ni', 'ne', 'ng', 'nu', 'nf', 'tr', 'kp', 'mp', 'no', 'om', 'pk', 'pw', 'pa', 'pg', 'py', 'pe', 'ph', 'pn', 'pl', 'pt', 'pr', 'qa', 'ro', 'ru', 'rw', 're', 'bl', 'sh', 'kn', 'lc', 'mf', 'pm', 'vc', 'ws', 'sm', 'st', 'sa', 'sn', 'rs', 'sc', 'sl', 'sg', 'sx', 'sk', 'si', 'sb', 'so', 'za', 'gs', 'kr', 'ss', 'es', 'lk', 'sd', 'sr', 'sj', 'sz', 'se', 'ch', 'sy', 'tw', 'tj', 'tz', 'th', 'tg', 'tk', 'to', 'tt', 'tn', 'tm', 'tc', 'tv', 'ug', 'ua', 'ae', 'uk', 'us', 'vi', 'uy', 'uz', 'vu', 'va', 've', 'vn', 'wf', 'eh', 'ye', 'zm', 'zw']\n"
          ]
        }
      ],
      "source": [
        "#print(train_df['tld'].value_counts().to_string())\n",
        "tlds = pd.read_csv(\"https://gist.githubusercontent.com/derlin/421d2bb55018a1538271227ff6b1299d/raw/3a131d47ca322a1d001f1f79333d924672194f36/country-codes-tlds.csv\", encoding='utf8')\n",
        "tlds = tlds[' tld']\n",
        "tlds = [item[2:] for item in tlds.unique()]\n",
        "original_tlds = ['com', 'net', 'org', 'edu', 'gov']\n",
        "print(tlds)\n",
        "\n",
        "cleaned_df['tld'] = cleaned_df['tld'].astype(str)\n",
        "\n",
        "cleaned_df['tld'] = cleaned_df.apply(lambda row: \".\".join(([str(row['org'])] if str(row['org']) else []) + row['tld'].lower().split(\".\")), axis=1)\n",
        "\n",
        "cleaned_df['is_country_tld'] = cleaned_df.apply(lambda row: any(item in tlds for item in row['tld'].lower().split(\".\")), axis=1)\n",
        "cleaned_df['tld_orig_type'] = cleaned_df.apply(lambda row: \".\".join([elem for elem in row['tld'].lower().split(\".\") if elem in original_tlds]), axis=1)\n",
        "cleaned_df['num_domains'] = cleaned_df.apply(lambda row: len(row['tld'].split(\".\")), axis=1)\n",
        "cleaned_df['tld_orig_type'].fillna('None', inplace=True)\n",
        "\n",
        "\n",
        "final_test_df['tld'] = final_test_df['tld'].astype(str)\n",
        "\n",
        "final_test_df['tld'] = final_test_df.apply(lambda row: \".\".join(([str(row['org'])] if str(row['org']) else []) + row['tld'].lower().split(\".\")), axis=1)\n",
        "\n",
        "final_test_df['is_country_tld'] = final_test_df.apply(lambda row: any(item in tlds for item in row['tld'].lower().split(\".\")), axis=1)\n",
        "final_test_df['tld_orig_type'] = final_test_df.apply(lambda row: \".\".join([elem for elem in row['tld'].lower().split(\".\") if elem in original_tlds]), axis=1)\n",
        "final_test_df['num_domains'] = final_test_df.apply(lambda row: len(row['tld'].split(\".\")), axis=1)\n",
        "final_test_df['tld_orig_type'].fillna('None', inplace=True)\n",
        "\n",
        "cleaned_df['tld'] = cleaned_df.apply(lambda row: \".\".join([elem for elem in row['tld'].lower().split(\".\") if elem not in tlds and elem not in original_tlds]), axis=1)\n",
        "\n",
        "final_test_df['tld'] = final_test_df.apply(lambda row: \".\".join([elem for elem in row['tld'].lower().split(\".\") if elem not in tlds and elem not in original_tlds]), axis=1)\n"
      ]
    },
    {
      "cell_type": "code",
      "execution_count": 6,
      "metadata": {
        "colab": {
          "base_uri": "https://localhost:8080/"
        },
        "id": "8o2_BXdw0QGf",
        "outputId": "ae1c8187-ac11-46fc-b774-927c60d1655a"
      },
      "outputs": [
        {
          "name": "stderr",
          "output_type": "stream",
          "text": [
            "c:\\Python39\\lib\\site-packages\\sklearn\\preprocessing\\_label.py:98: DataConversionWarning: A column-vector y was passed when a 1d array was expected. Please change the shape of y to (n_samples, ), for example using ravel().\n",
            "  y = column_or_1d(y, warn=True)\n",
            "c:\\Python39\\lib\\site-packages\\sklearn\\preprocessing\\_label.py:133: DataConversionWarning: A column-vector y was passed when a 1d array was expected. Please change the shape of y to (n_samples, ), for example using ravel().\n",
            "  y = column_or_1d(y, warn=True)\n",
            "c:\\Python39\\lib\\site-packages\\sklearn\\preprocessing\\_label.py:98: DataConversionWarning: A column-vector y was passed when a 1d array was expected. Please change the shape of y to (n_samples, ), for example using ravel().\n",
            "  y = column_or_1d(y, warn=True)\n",
            "c:\\Python39\\lib\\site-packages\\sklearn\\preprocessing\\_label.py:133: DataConversionWarning: A column-vector y was passed when a 1d array was expected. Please change the shape of y to (n_samples, ), for example using ravel().\n",
            "  y = column_or_1d(y, warn=True)\n",
            "c:\\Python39\\lib\\site-packages\\sklearn\\preprocessing\\_label.py:98: DataConversionWarning: A column-vector y was passed when a 1d array was expected. Please change the shape of y to (n_samples, ), for example using ravel().\n",
            "  y = column_or_1d(y, warn=True)\n",
            "c:\\Python39\\lib\\site-packages\\sklearn\\preprocessing\\_label.py:133: DataConversionWarning: A column-vector y was passed when a 1d array was expected. Please change the shape of y to (n_samples, ), for example using ravel().\n",
            "  y = column_or_1d(y, warn=True)\n",
            "c:\\Python39\\lib\\site-packages\\sklearn\\preprocessing\\_label.py:98: DataConversionWarning: A column-vector y was passed when a 1d array was expected. Please change the shape of y to (n_samples, ), for example using ravel().\n",
            "  y = column_or_1d(y, warn=True)\n",
            "c:\\Python39\\lib\\site-packages\\sklearn\\preprocessing\\_label.py:133: DataConversionWarning: A column-vector y was passed when a 1d array was expected. Please change the shape of y to (n_samples, ), for example using ravel().\n",
            "  y = column_or_1d(y, warn=True)\n"
          ]
        }
      ],
      "source": [
        "train_x = cleaned_df[['mail_type']]\n",
        "train_y = cleaned_df[['label']]\n",
        "\n",
        "test_x = final_test_df[['mail_type']]\n",
        "\n",
        "feat_enc2 = LabelEncoder()\n",
        "feat_enc2.fit(np.vstack([train_x, test_x]))\n",
        "train_tld_x_featurized = feat_enc2.transform(train_x)\n",
        "test_tld_x_featurized = feat_enc2.transform(test_x)\n",
        "\n",
        "cleaned_df['mail_type'] = train_tld_x_featurized\n",
        "final_test_df['mail_type'] = test_tld_x_featurized\n",
        "\n",
        "train_x = cleaned_df[['tld_orig_type']]\n",
        "test_x = final_test_df[['tld_orig_type']]\n",
        "\n",
        "feat_enc2 = LabelEncoder()\n",
        "feat_enc2.fit(np.vstack([train_x, test_x]))\n",
        "train_tld_x_featurized = feat_enc2.transform(train_x)\n",
        "test_tld_x_featurized = feat_enc2.transform(test_x)\n",
        "\n",
        "cleaned_df['tld_orig_type'] = train_tld_x_featurized\n",
        "final_test_df['tld_orig_type'] = test_tld_x_featurized\n",
        "\n",
        "train_tld_x = cleaned_df[['org']]\n",
        "test_tld_x = final_test_df[['org']]\n",
        "\n",
        "feat_enc2 = LabelEncoder()\n",
        "feat_enc2.fit(np.vstack([train_tld_x, test_tld_x]))\n",
        "train_tld_x_featurized = feat_enc2.transform(train_tld_x)\n",
        "test_tld_x_featurized = feat_enc2.transform(test_tld_x)\n",
        "\n",
        "cleaned_df['org'] = train_tld_x_featurized\n",
        "final_test_df['org'] = test_tld_x_featurized\n",
        "\n",
        "train_tld_x = cleaned_df[['tld']]\n",
        "test_tld_x = final_test_df[['tld']]\n",
        "\n",
        "feat_enc3 = LabelEncoder()\n",
        "feat_enc3.fit(np.vstack([train_tld_x, test_tld_x]))\n",
        "train_tld_x_featurized = feat_enc3.transform(train_tld_x)\n",
        "test_tld_x_featurized = feat_enc3.transform(test_tld_x)\n",
        "\n",
        "cleaned_df['tld'] = train_tld_x_featurized\n",
        "final_test_df['tld'] = test_tld_x_featurized"
      ]
    },
    {
      "cell_type": "code",
      "execution_count": 48,
      "metadata": {},
      "outputs": [],
      "source": [
        "cleaned_df.dropna(inplace=True)"
      ]
    },
    {
      "cell_type": "markdown",
      "metadata": {
        "id": "uSNgdQFFFQ6u"
      },
      "source": [
        "Split the dataset into train, validation, and test sets. The validation set is used during the model fitting to evaluate the loss and any metrics, however the model is not fit with this data. The test set is completely unused during the training phase and is only used at the end to evaluate how well the model generalizes to new data. This is especially important with imbalanced datasets where [overfitting](https://developers.google.com/machine-learning/crash-course/generalization/peril-of-overfitting) is a significant concern from the lack of training data."
      ]
    },
    {
      "cell_type": "code",
      "execution_count": 49,
      "metadata": {
        "colab": {
          "base_uri": "https://localhost:8080/"
        },
        "id": "xfxhKg7Yr1-b",
        "outputId": "8410fef7-349f-47e8-a087-17e714965086"
      },
      "outputs": [
        {
          "data": {
            "image/png": "[encoded data removed]",
            "text/plain": [
              "<Figure size 864x720 with 1 Axes>"
            ]
          },
          "metadata": {
            "needs_background": "light"
          },
          "output_type": "display_data"
        }
      ],
      "source": [
        "# Use a utility from sklearn to split and shuffle your dataset.\n",
        "train_df, test_df = train_test_split(cleaned_df, test_size=0.2)\n",
        "train_df, val_df = train_test_split(cleaned_df, test_size=0.2)\n",
        "\n",
        "from collections import Counter\n",
        "\n",
        "counter = Counter(train_df['label'])\n",
        "plt.bar(counter.keys(), counter.values())\n",
        "plt.show()\n",
        "\n"
      ]
    },
    {
      "cell_type": "code",
      "execution_count": 50,
      "metadata": {},
      "outputs": [
        {
          "data": {
            "text/plain": [
              "array([248, 504, 556, 0, 0, 4, 0, 0, 107.0, 2.3026850879943788,\n",
              "       3.7376934275237357, 10.18572989394209, True, False, False, 1, 2],\n",
              "      dtype=object)"
            ]
          },
          "execution_count": 50,
          "metadata": {},
          "output_type": "execute_result"
        }
      ],
      "source": [
        "# Form np arrays of labels and features.\n",
        "from keras.utils import np_utils\n",
        "train_labels = np_utils.to_categorical(train_df.pop('label'))\n",
        "val_labels = np_utils.to_categorical(val_df.pop('label'))\n",
        "test_labels = np_utils.to_categorical(test_df.pop('label'))\n",
        "train_features = np.array(train_df)\n",
        "val_features = np.array(val_df)\n",
        "test_features = np.array(test_df)\n",
        "\n",
        "train_features[0]"
      ]
    },
    {
      "cell_type": "code",
      "execution_count": null,
      "metadata": {},
      "outputs": [],
      "source": [
        "\n"
      ]
    },
    {
      "cell_type": "markdown",
      "metadata": {
        "id": "8a_Z_kBmr7Oh"
      },
      "source": [
        "Normalize the input features using the sklearn StandardScaler.\n",
        "This will set the mean to 0 and standard deviation to 1.\n",
        "\n",
        "Note: The `StandardScaler` is only fit using the `train_features` to be sure the model is not peeking at the validation or test sets. "
      ]
    },
    {
      "cell_type": "code",
      "execution_count": 51,
      "metadata": {
        "colab": {
          "base_uri": "https://localhost:8080/"
        },
        "id": "IO-qEUmJ5JQg",
        "outputId": "3d6c5f24-40d5-4358-def8-e4fcd87e529f"
      },
      "outputs": [
        {
          "name": "stdout",
          "output_type": "stream",
          "text": [
            "Training labels shape: (64128, 8)\n",
            "Validation labels shape: (16032, 8)\n",
            "Test labels shape: (16032, 8)\n",
            "Training features shape: (64128, 17)\n",
            "Validation features shape: (16032, 17)\n",
            "Test features shape: (16032, 17)\n"
          ]
        }
      ],
      "source": [
        "scaler = StandardScaler()\n",
        "train_features = scaler.fit_transform(train_features)\n",
        "\n",
        "val_features = scaler.transform(val_features)\n",
        "test_features = scaler.transform(test_features)\n",
        "\n",
        "train_features = np.clip(train_features, -5, 5)\n",
        "val_features = np.clip(val_features, -5, 5)\n",
        "test_features = np.clip(test_features, -5, 5)\n",
        "\n",
        "\n",
        "print('Training labels shape:', train_labels.shape)\n",
        "print('Validation labels shape:', val_labels.shape)\n",
        "print('Test labels shape:', test_labels.shape)\n",
        "\n",
        "print('Training features shape:', train_features.shape)\n",
        "print('Validation features shape:', val_features.shape)\n",
        "print('Test features shape:', test_features.shape)\n"
      ]
    },
    {
      "cell_type": "code",
      "execution_count": 64,
      "metadata": {},
      "outputs": [],
      "source": [
        "final_train_df = cleaned_df.copy()\n",
        "test_final_df = final_test_df.copy()\n",
        "\n",
        "final_train_labels = np_utils.to_categorical(final_train_df.pop('label'))\n",
        "final_train_features = np.array(final_train_df)\n",
        "final_test_features = np.array(test_final_df)\n"
      ]
    },
    {
      "cell_type": "code",
      "execution_count": 65,
      "metadata": {},
      "outputs": [],
      "source": [
        "scaler = StandardScaler()\n",
        "final_train_features = scaler.fit_transform(final_train_features)\n",
        "final_test_features = scaler.transform(final_test_features)\n",
        "\n",
        "final_train_features = np.clip(final_train_features, -5, 5)\n",
        "final_test_features = np.clip(final_test_features, -5, 5)\n"
      ]
    },
    {
      "cell_type": "markdown",
      "metadata": {
        "id": "XF2nNfWKJ33w"
      },
      "source": [
        "Caution: If you want to deploy a model, it's critical that you preserve the preprocessing calculations. The easiest way to implement them as layers, and attach them to your model before export.\n"
      ]
    },
    {
      "cell_type": "markdown",
      "metadata": {
        "id": "qFK1u4JX16D8"
      },
      "source": [
        "## Define the model and metrics\n",
        "\n",
        "Define a function that creates a simple neural network with a densly connected hidden layer, a [dropout](https://developers.google.com/machine-learning/glossary/#dropout_regularization) layer to reduce overfitting, and an output sigmoid layer that returns the probability of a transaction being fraudulent: "
      ]
    },
    {
      "cell_type": "code",
      "execution_count": 52,
      "metadata": {
        "id": "3JQDzUqT3UYG"
      },
      "outputs": [],
      "source": [
        "\n",
        "\n",
        "def make_model():\n",
        "  input =  tf.keras.Input(shape=train_df.shape[1:])\n",
        "  x = tf.keras.layers.Flatten()(input)\n",
        "  x = tf.keras.layers.Dense(128, activation='relu')(x)\n",
        "  x = tf.keras.layers.Dense(64, activation='relu')(x)\n",
        "  x = tf.keras.layers.Dense(32, activation='relu')(x)\n",
        "  output = tf.keras.layers.Dense(8, activation='softmax')(x)\n",
        "  model = tf.keras.models.Model(input,output)\n",
        "  \n",
        "  model.compile(optimizer=tf.keras.optimizers.Adam(learning_rate=1e-3),\n",
        "                loss= tf.keras.losses.CategoricalCrossentropy(),\n",
        "                metrics=[tf.keras.metrics.CategoricalAccuracy(),\n",
        "                        tf.keras.metrics.FalseNegatives(),\n",
        "                        tf.keras.metrics.AUC(name='prc', curve='PR')])\n",
        "\n",
        "  return model"
      ]
    },
    {
      "cell_type": "code",
      "execution_count": null,
      "metadata": {
        "id": "-AdsEEAtRkXq"
      },
      "outputs": [],
      "source": []
    },
    {
      "cell_type": "markdown",
      "metadata": {
        "id": "SU0GX6E6mieP"
      },
      "source": [
        "### Understanding useful metrics\n",
        "\n",
        "Notice that there are a few metrics defined above that can be computed by the model that will be helpful when evaluating the performance.\n",
        "\n",
        "\n",
        "\n",
        "*   **False** negatives and **false** positives are samples that were **incorrectly** classified\n",
        "*   **True** negatives and **true** positives are samples that were **correctly** classified\n",
        "*   **Accuracy** is the percentage of examples correctly classified\n",
        ">   $\\frac{\\text{true samples}}{\\text{total samples}}$\n",
        "*   **Precision** is the percentage of **predicted** positives that were correctly classified\n",
        ">   $\\frac{\\text{true positives}}{\\text{true positives + false positives}}$\n",
        "*   **Recall** is the percentage of **actual** positives that were correctly classified\n",
        ">   $\\frac{\\text{true positives}}{\\text{true positives + false negatives}}$\n",
        "*   **AUC** refers to the Area Under the Curve of a Receiver Operating Characteristic curve (ROC-AUC). This metric is equal to the probability that a classifier will rank a random positive sample higher than a random negative sample.\n",
        "*   **AUPRC** refers to Area Under the Curve of the Precision-Recall Curve. This metric computes precision-recall pairs for different probability thresholds. \n",
        "\n",
        "Note: Accuracy is not a helpful metric for this task. You can have 99.8%+ accuracy on this task by predicting False all the time.  \n",
        "\n",
        "Read more:\n",
        "*  [True vs. False and Positive vs. Negative](https://developers.google.com/machine-learning/crash-course/classification/true-false-positive-negative)\n",
        "*  [Accuracy](https://developers.google.com/machine-learning/crash-course/classification/accuracy)\n",
        "*   [Precision and Recall](https://developers.google.com/machine-learning/crash-course/classification/precision-and-recall)\n",
        "*   [ROC-AUC](https://developers.google.com/machine-learning/crash-course/classification/roc-and-auc)\n",
        "*   [Relationship between Precision-Recall and ROC Curves](https://www.biostat.wisc.edu/~page/rocpr.pdf)"
      ]
    },
    {
      "cell_type": "markdown",
      "metadata": {
        "id": "FYdhSAoaF_TK"
      },
      "source": [
        "## Baseline model"
      ]
    },
    {
      "cell_type": "markdown",
      "metadata": {
        "id": "IDbltVPg2m2q"
      },
      "source": [
        "### Build the model\n",
        "\n",
        "Now create and train your model using the function that was defined earlier. Notice that the model is fit using a larger than default batch size of 2048, this is important to ensure that each batch has a decent chance of containing a few positive samples. If the batch size was too small, they would likely have no fraudulent transactions to learn from.\n",
        "\n",
        "\n",
        "Note: this model will not handle the class imbalance well. You will improve it later in this tutorial."
      ]
    },
    {
      "cell_type": "code",
      "execution_count": 58,
      "metadata": {
        "colab": {
          "base_uri": "https://localhost:8080/",
          "height": 218
        },
        "id": "NKlU8JSR3weI",
        "outputId": "6aed5385-0506-480f-f6de-ce7026ac0b59"
      },
      "outputs": [
        {
          "name": "stdout",
          "output_type": "stream",
          "text": [
            "Model: \"model_11\"\n",
            "_________________________________________________________________\n",
            " Layer (type)                Output Shape              Param #   \n",
            "=================================================================\n",
            " input_12 (InputLayer)       [(None, 17)]              0         \n",
            "                                                                 \n",
            " flatten_11 (Flatten)        (None, 17)                0         \n",
            "                                                                 \n",
            " dense_44 (Dense)            (None, 128)               2304      \n",
            "                                                                 \n",
            " dense_45 (Dense)            (None, 64)                8256      \n",
            "                                                                 \n",
            " dense_46 (Dense)            (None, 32)                2080      \n",
            "                                                                 \n",
            " dense_47 (Dense)            (None, 8)                 264       \n",
            "                                                                 \n",
            "=================================================================\n",
            "Total params: 12,904\n",
            "Trainable params: 12,904\n",
            "Non-trainable params: 0\n",
            "_________________________________________________________________\n",
            "Train Features Shape: (64128, 17) \n",
            "Train Labels Shape: (64128, 8)\n"
          ]
        }
      ],
      "source": [
        "model = make_model()\n",
        "model.summary()\n",
        "print(f'Train Features Shape: {train_features.shape} \\nTrain Labels Shape: {train_labels.shape}')\n"
      ]
    },
    {
      "cell_type": "code",
      "execution_count": null,
      "metadata": {},
      "outputs": [],
      "source": []
    },
    {
      "cell_type": "code",
      "execution_count": 59,
      "metadata": {
        "colab": {
          "base_uri": "https://localhost:8080/",
          "height": 1000
        },
        "id": "V6ZY6bJt33_a",
        "outputId": "d7b13d86-bdd5-4858-98d6-559d06a731e9"
      },
      "outputs": [
        {
          "name": "stdout",
          "output_type": "stream",
          "text": [
            "Epoch 1/20\n",
            "2004/2004 [==============================] - 6s 3ms/step - loss: 0.9930 - categorical_accuracy: 0.5173 - false_negatives_11: 42457.0000 - prc: 0.5697 - val_loss: 0.9133 - val_categorical_accuracy: 0.5377 - val_false_negatives_11: 9806.0000 - val_prc: 0.5980\n",
            "Epoch 2/20\n",
            "2004/2004 [==============================] - 5s 3ms/step - loss: 0.9016 - categorical_accuracy: 0.5435 - false_negatives_11: 38356.0000 - prc: 0.6063 - val_loss: 0.8831 - val_categorical_accuracy: 0.5451 - val_false_negatives_11: 9573.0000 - val_prc: 0.6125\n",
            "Epoch 3/20\n",
            "2004/2004 [==============================] - 5s 3ms/step - loss: 0.8769 - categorical_accuracy: 0.5533 - false_negatives_11: 36993.0000 - prc: 0.6172 - val_loss: 0.8736 - val_categorical_accuracy: 0.5536 - val_false_negatives_11: 8956.0000 - val_prc: 0.6166\n",
            "Epoch 4/20\n",
            "2004/2004 [==============================] - 5s 2ms/step - loss: 0.8601 - categorical_accuracy: 0.5589 - false_negatives_11: 36286.0000 - prc: 0.6254 - val_loss: 0.8574 - val_categorical_accuracy: 0.5586 - val_false_negatives_11: 8745.0000 - val_prc: 0.6179\n",
            "Epoch 5/20\n",
            "2004/2004 [==============================] - 5s 2ms/step - loss: 0.8465 - categorical_accuracy: 0.5621 - false_negatives_11: 35543.0000 - prc: 0.6320 - val_loss: 0.8482 - val_categorical_accuracy: 0.5591 - val_false_negatives_11: 9123.0000 - val_prc: 0.6314\n",
            "Epoch 6/20\n",
            "2004/2004 [==============================] - 5s 2ms/step - loss: 0.8339 - categorical_accuracy: 0.5689 - false_negatives_11: 34973.0000 - prc: 0.6379 - val_loss: 0.8413 - val_categorical_accuracy: 0.5581 - val_false_negatives_11: 8693.0000 - val_prc: 0.6292\n",
            "Epoch 7/20\n",
            "2004/2004 [==============================] - 5s 3ms/step - loss: 0.8251 - categorical_accuracy: 0.5691 - false_negatives_11: 34684.0000 - prc: 0.6415 - val_loss: 0.8266 - val_categorical_accuracy: 0.5576 - val_false_negatives_11: 8828.0000 - val_prc: 0.6318\n",
            "Epoch 8/20\n",
            "2004/2004 [==============================] - 5s 2ms/step - loss: 0.8170 - categorical_accuracy: 0.5707 - false_negatives_11: 34393.0000 - prc: 0.6440 - val_loss: 0.8290 - val_categorical_accuracy: 0.5623 - val_false_negatives_11: 8794.0000 - val_prc: 0.6340\n",
            "Epoch 9/20\n",
            "2004/2004 [==============================] - 4s 2ms/step - loss: 0.8098 - categorical_accuracy: 0.5750 - false_negatives_11: 33837.0000 - prc: 0.6477 - val_loss: 0.8180 - val_categorical_accuracy: 0.5647 - val_false_negatives_11: 8575.0000 - val_prc: 0.6402\n",
            "Epoch 10/20\n",
            "2004/2004 [==============================] - 4s 2ms/step - loss: 0.8032 - categorical_accuracy: 0.5794 - false_negatives_11: 33521.0000 - prc: 0.6501 - val_loss: 0.8190 - val_categorical_accuracy: 0.5636 - val_false_negatives_11: 8677.0000 - val_prc: 0.6370\n",
            "Epoch 11/20\n",
            "2004/2004 [==============================] - 5s 2ms/step - loss: 0.7984 - categorical_accuracy: 0.5799 - false_negatives_11: 33359.0000 - prc: 0.6521 - val_loss: 0.8167 - val_categorical_accuracy: 0.5666 - val_false_negatives_11: 8502.0000 - val_prc: 0.6367\n",
            "Epoch 12/20\n",
            "2004/2004 [==============================] - 5s 2ms/step - loss: 0.7928 - categorical_accuracy: 0.5834 - false_negatives_11: 32836.0000 - prc: 0.6557 - val_loss: 0.8104 - val_categorical_accuracy: 0.5631 - val_false_negatives_11: 8217.0000 - val_prc: 0.6392\n",
            "Epoch 13/20\n",
            "2004/2004 [==============================] - 5s 2ms/step - loss: 0.7891 - categorical_accuracy: 0.5824 - false_negatives_11: 32727.0000 - prc: 0.6560 - val_loss: 0.8049 - val_categorical_accuracy: 0.5672 - val_false_negatives_11: 8303.0000 - val_prc: 0.6459\n",
            "Epoch 14/20\n",
            "2004/2004 [==============================] - 5s 3ms/step - loss: 0.7846 - categorical_accuracy: 0.5844 - false_negatives_11: 32509.0000 - prc: 0.6588 - val_loss: 0.8118 - val_categorical_accuracy: 0.5715 - val_false_negatives_11: 8601.0000 - val_prc: 0.6423\n",
            "Epoch 15/20\n",
            "2004/2004 [==============================] - 5s 2ms/step - loss: 0.7802 - categorical_accuracy: 0.5875 - false_negatives_11: 32385.0000 - prc: 0.6615 - val_loss: 0.8060 - val_categorical_accuracy: 0.5704 - val_false_negatives_11: 8217.0000 - val_prc: 0.6409\n",
            "Epoch 16/20\n",
            "2004/2004 [==============================] - 5s 3ms/step - loss: 0.7772 - categorical_accuracy: 0.5899 - false_negatives_11: 31909.0000 - prc: 0.6634 - val_loss: 0.8058 - val_categorical_accuracy: 0.5700 - val_false_negatives_11: 8115.0000 - val_prc: 0.6435\n",
            "Epoch 17/20\n",
            "2004/2004 [==============================] - 5s 2ms/step - loss: 0.7752 - categorical_accuracy: 0.5864 - false_negatives_11: 32112.0000 - prc: 0.6635 - val_loss: 0.8011 - val_categorical_accuracy: 0.5717 - val_false_negatives_11: 8469.0000 - val_prc: 0.6449\n",
            "Epoch 18/20\n",
            "2004/2004 [==============================] - 5s 3ms/step - loss: 0.7709 - categorical_accuracy: 0.5904 - false_negatives_11: 31748.0000 - prc: 0.6662 - val_loss: 0.7987 - val_categorical_accuracy: 0.5686 - val_false_negatives_11: 8078.0000 - val_prc: 0.6439\n",
            "Epoch 19/20\n",
            "2004/2004 [==============================] - 5s 3ms/step - loss: 0.7679 - categorical_accuracy: 0.5929 - false_negatives_11: 31472.0000 - prc: 0.6685 - val_loss: 0.8004 - val_categorical_accuracy: 0.5727 - val_false_negatives_11: 8228.0000 - val_prc: 0.6450\n",
            "Epoch 20/20\n",
            "2004/2004 [==============================] - 5s 3ms/step - loss: 0.7665 - categorical_accuracy: 0.5921 - false_negatives_11: 31498.0000 - prc: 0.6685 - val_loss: 0.7956 - val_categorical_accuracy: 0.5695 - val_false_negatives_11: 8185.0000 - val_prc: 0.6448\n"
          ]
        },
        {
          "data": {
            "text/plain": [
              "<keras.callbacks.History at 0x2370b6080d0>"
            ]
          },
          "execution_count": 59,
          "metadata": {},
          "output_type": "execute_result"
        }
      ],
      "source": [
        "model.fit(x=train_features, y=train_labels, epochs=20, validation_data=(val_features, val_labels))"
      ]
    },
    {
      "cell_type": "code",
      "execution_count": 60,
      "metadata": {
        "id": "PG-zgomY4FYI"
      },
      "outputs": [
        {
          "name": "stdout",
          "output_type": "stream",
          "text": [
            "501/501 [==============================] - 1s 2ms/step - loss: 0.7700 - categorical_accuracy: 0.5883 - false_negatives_11: 7940.0000 - prc: 0.6623\n"
          ]
        },
        {
          "data": {
            "text/plain": [
              "[0.770035982131958, 0.5882609486579895, 7940.0, 0.6622918844223022]"
            ]
          },
          "execution_count": 60,
          "metadata": {},
          "output_type": "execute_result"
        }
      ],
      "source": [
        "model.evaluate(test_features, test_labels)"
      ]
    },
    {
      "cell_type": "markdown",
      "metadata": {
        "id": "Wx7ND3_SqckO"
      },
      "source": [
        "Test run the model:"
      ]
    },
    {
      "cell_type": "code",
      "execution_count": null,
      "metadata": {
        "colab": {
          "base_uri": "https://localhost:8080/"
        },
        "id": "LopSd-yQqO3a",
        "outputId": "415f982d-df26-4812-80c3-2ce9751a4c80"
      },
      "outputs": [
        {
          "data": {
            "text/plain": [
              "array([[0.11142252, 0.09038334, 0.144186  , 0.11137723, 0.13216093,\n",
              "        0.04528884, 0.19939128, 0.0359086 , 0.07870894, 0.05117223],\n",
              "       [0.17225793, 0.1569241 , 0.17104441, 0.1319198 , 0.03390858,\n",
              "        0.02385597, 0.13659541, 0.06252219, 0.08994907, 0.0210226 ],\n",
              "       [0.0616394 , 0.0030935 , 0.43976957, 0.2348534 , 0.14348063,\n",
              "        0.01287365, 0.06028781, 0.02321327, 0.00905443, 0.01173433],\n",
              "       [0.15454103, 0.04124064, 0.19037873, 0.15015115, 0.08832957,\n",
              "        0.05889321, 0.15037756, 0.08902869, 0.04942388, 0.02763564],\n",
              "       [0.2156234 , 0.05252496, 0.18978442, 0.03456469, 0.02569761,\n",
              "        0.04801705, 0.18725494, 0.05280324, 0.10957126, 0.08415842],\n",
              "       [0.07269286, 0.04301731, 0.19513455, 0.13259558, 0.16958396,\n",
              "        0.07952046, 0.17019378, 0.04579668, 0.04517747, 0.04628743],\n",
              "       [0.07903624, 0.04215971, 0.1663548 , 0.13221204, 0.21732591,\n",
              "        0.07378722, 0.17485821, 0.0394065 , 0.03792994, 0.03692946],\n",
              "       [0.16150431, 0.14974163, 0.18364766, 0.15136525, 0.03709716,\n",
              "        0.02333883, 0.12821737, 0.04905055, 0.09383217, 0.02220508],\n",
              "       [0.08787487, 0.0245625 , 0.20520689, 0.12095339, 0.13749677,\n",
              "        0.21700995, 0.10604099, 0.02853743, 0.03244979, 0.03986739],\n",
              "       [0.11504531, 0.03748298, 0.15223655, 0.136209  , 0.21264714,\n",
              "        0.05875487, 0.16817012, 0.04463229, 0.04149529, 0.03332643]],\n",
              "      dtype=float32)"
            ]
          },
          "execution_count": 36,
          "metadata": {},
          "output_type": "execute_result"
        }
      ],
      "source": [
        "model.predict(train_features[:10])"
      ]
    },
    {
      "cell_type": "code",
      "execution_count": 61,
      "metadata": {},
      "outputs": [
        {
          "name": "stdout",
          "output_type": "stream",
          "text": [
            "Model: \"model_12\"\n",
            "_________________________________________________________________\n",
            " Layer (type)                Output Shape              Param #   \n",
            "=================================================================\n",
            " input_13 (InputLayer)       [(None, 17)]              0         \n",
            "                                                                 \n",
            " flatten_12 (Flatten)        (None, 17)                0         \n",
            "                                                                 \n",
            " dense_48 (Dense)            (None, 128)               2304      \n",
            "                                                                 \n",
            " dense_49 (Dense)            (None, 64)                8256      \n",
            "                                                                 \n",
            " dense_50 (Dense)            (None, 32)                2080      \n",
            "                                                                 \n",
            " dense_51 (Dense)            (None, 8)                 264       \n",
            "                                                                 \n",
            "=================================================================\n",
            "Total params: 12,904\n",
            "Trainable params: 12,904\n",
            "Non-trainable params: 0\n",
            "_________________________________________________________________\n",
            "Train Features Shape: (64128, 17) \n",
            "Train Labels Shape: (64128, 8)\n"
          ]
        }
      ],
      "source": [
        "model = make_model()\n",
        "model.summary()\n",
        "print(f'Train Features Shape: {train_features.shape} \\nTrain Labels Shape: {train_labels.shape}')"
      ]
    },
    {
      "cell_type": "code",
      "execution_count": 66,
      "metadata": {},
      "outputs": [
        {
          "name": "stdout",
          "output_type": "stream",
          "text": [
            "Epoch 1/20\n",
            "2505/2505 [==============================] - 6s 2ms/step - loss: 0.9792 - categorical_accuracy: 0.5212 - false_negatives_12: 52242.0000 - prc: 0.5758\n",
            "Epoch 2/20\n",
            "2505/2505 [==============================] - 5s 2ms/step - loss: 0.8927 - categorical_accuracy: 0.5456 - false_negatives_12: 47761.0000 - prc: 0.6104\n",
            "Epoch 3/20\n",
            "2505/2505 [==============================] - 5s 2ms/step - loss: 0.8679 - categorical_accuracy: 0.5535 - false_negatives_12: 46294.0000 - prc: 0.6212\n",
            "Epoch 4/20\n",
            "2505/2505 [==============================] - 5s 2ms/step - loss: 0.8498 - categorical_accuracy: 0.5596 - false_negatives_12: 45461.0000 - prc: 0.6290\n",
            "Epoch 5/20\n",
            "2505/2505 [==============================] - 5s 2ms/step - loss: 0.8352 - categorical_accuracy: 0.5640 - false_negatives_12: 44705.0000 - prc: 0.6353\n",
            "Epoch 6/20\n",
            "2505/2505 [==============================] - 5s 2ms/step - loss: 0.8230 - categorical_accuracy: 0.5700 - false_negatives_12: 43548.0000 - prc: 0.6408\n",
            "Epoch 7/20\n",
            "2505/2505 [==============================] - 5s 2ms/step - loss: 0.8135 - categorical_accuracy: 0.5725 - false_negatives_12: 42946.0000 - prc: 0.6448\n",
            "Epoch 8/20\n",
            "2505/2505 [==============================] - 5s 2ms/step - loss: 0.8056 - categorical_accuracy: 0.5747 - false_negatives_12: 42395.0000 - prc: 0.6482\n",
            "Epoch 9/20\n",
            "2505/2505 [==============================] - 5s 2ms/step - loss: 0.7991 - categorical_accuracy: 0.5760 - false_negatives_12: 42155.0000 - prc: 0.6505\n",
            "Epoch 10/20\n",
            "2505/2505 [==============================] - 5s 2ms/step - loss: 0.7935 - categorical_accuracy: 0.5767 - false_negatives_12: 42049.0000 - prc: 0.6525\n",
            "Epoch 11/20\n",
            "2505/2505 [==============================] - 5s 2ms/step - loss: 0.7882 - categorical_accuracy: 0.5807 - false_negatives_12: 41575.0000 - prc: 0.6555\n",
            "Epoch 12/20\n",
            "2505/2505 [==============================] - 5s 2ms/step - loss: 0.7838 - categorical_accuracy: 0.5801 - false_negatives_12: 41552.0000 - prc: 0.6576\n",
            "Epoch 13/20\n",
            "2505/2505 [==============================] - 5s 2ms/step - loss: 0.7799 - categorical_accuracy: 0.5804 - false_negatives_12: 41361.0000 - prc: 0.6592\n",
            "Epoch 14/20\n",
            "2505/2505 [==============================] - 5s 2ms/step - loss: 0.7759 - categorical_accuracy: 0.5843 - false_negatives_12: 40766.0000 - prc: 0.6610\n",
            "Epoch 15/20\n",
            "2505/2505 [==============================] - 5s 2ms/step - loss: 0.7725 - categorical_accuracy: 0.5837 - false_negatives_12: 40662.0000 - prc: 0.6633\n",
            "Epoch 16/20\n",
            "2505/2505 [==============================] - 5s 2ms/step - loss: 0.7692 - categorical_accuracy: 0.5851 - false_negatives_12: 40578.0000 - prc: 0.6642\n",
            "Epoch 17/20\n",
            "2505/2505 [==============================] - 5s 2ms/step - loss: 0.7658 - categorical_accuracy: 0.5867 - false_negatives_12: 40248.0000 - prc: 0.6661\n",
            "Epoch 18/20\n",
            "2505/2505 [==============================] - 5s 2ms/step - loss: 0.7634 - categorical_accuracy: 0.5880 - false_negatives_12: 40258.0000 - prc: 0.6673\n",
            "Epoch 19/20\n",
            "2505/2505 [==============================] - 5s 2ms/step - loss: 0.7619 - categorical_accuracy: 0.5881 - false_negatives_12: 40179.0000 - prc: 0.6677\n",
            "Epoch 20/20\n",
            "2505/2505 [==============================] - 5s 2ms/step - loss: 0.7586 - categorical_accuracy: 0.5903 - false_negatives_12: 39831.0000 - prc: 0.6694\n"
          ]
        },
        {
          "data": {
            "text/plain": [
              "<keras.callbacks.History at 0x2371f89c550>"
            ]
          },
          "execution_count": 66,
          "metadata": {},
          "output_type": "execute_result"
        }
      ],
      "source": [
        "model.fit(x=final_train_features, y=final_train_labels, epochs=20)"
      ]
    },
    {
      "cell_type": "code",
      "execution_count": 67,
      "metadata": {},
      "outputs": [
        {
          "name": "stdout",
          "output_type": "stream",
          "text": [
            "1074/1074 [==============================] - 1s 1ms/step\n"
          ]
        }
      ],
      "source": [
        "predictions = model.predict(final_test_features)"
      ]
    },
    {
      "cell_type": "code",
      "execution_count": 69,
      "metadata": {},
      "outputs": [
        {
          "data": {
            "text/plain": [
              "array([1, 1, 1, ..., 1, 7, 1], dtype=int64)"
            ]
          },
          "execution_count": 69,
          "metadata": {},
          "output_type": "execute_result"
        }
      ],
      "source": [
        "predictions = np.argmax(predictions, axis=1)\n",
        "predictions"
      ]
    },
    {
      "cell_type": "code",
      "execution_count": 70,
      "metadata": {},
      "outputs": [
        {
          "data": {
            "image/png": "[encoded data removed]",
            "text/plain": [
              "<Figure size 864x720 with 1 Axes>"
            ]
          },
          "metadata": {
            "needs_background": "light"
          },
          "output_type": "display_data"
        }
      ],
      "source": [
        "counter = Counter(predictions)\n",
        "plt.bar(counter.keys(), counter.values())\n",
        "plt.show()"
      ]
    },
    {
      "cell_type": "code",
      "execution_count": 71,
      "metadata": {},
      "outputs": [],
      "source": [
        "pd.DataFrame(predictions, columns=['label']).to_csv('keras.csv')"
      ]
    },
    {
      "cell_type": "code",
      "execution_count": 72,
      "metadata": {},
      "outputs": [],
      "source": [
        "final_train_df = cleaned_df.copy()\n",
        "test_final_df = final_test_df.copy()\n",
        "\n",
        "final_train_labels = np_utils.to_categorical(final_train_df.pop('label'))\n",
        "final_train_features = np.array(final_train_df)\n",
        "final_test_features = np.array(test_final_df)\n",
        "\n",
        "scaler = StandardScaler()\n",
        "final_train_features = scaler.fit_transform(final_train_features)\n",
        "final_test_features = scaler.transform(final_test_features)\n",
        "\n",
        "final_train_features = np.clip(final_train_features, -5, 5)\n",
        "final_test_features = np.clip(final_test_features, -5, 5)\n"
      ]
    },
    {
      "cell_type": "code",
      "execution_count": 73,
      "metadata": {},
      "outputs": [
        {
          "ename": "TypeError",
          "evalue": "unhashable type: 'numpy.ndarray'",
          "output_type": "error",
          "traceback": [
            "\u001b[1;31m---------------------------------------------------------------------------\u001b[0m",
            "\u001b[1;31mTypeError\u001b[0m                                 Traceback (most recent call last)",
            "\u001b[1;32mc:\\Users\\nrtc\\OneDrive\\Documentos\\AI Summer School\\Competition\\Cópia_de_imbalanced_data.ipynb Cell 50'\u001b[0m in \u001b[0;36m<module>\u001b[1;34m\u001b[0m\n\u001b[0;32m      <a href='vscode-notebook-cell:/c%3A/Users/nrtc/OneDrive/Documentos/AI%20Summer%20School/Competition/C%C3%B3pia_de_imbalanced_data.ipynb#ch0000138?line=2'>3</a>\u001b[0m oversample \u001b[39m=\u001b[39m SMOTETomek()\n\u001b[0;32m      <a href='vscode-notebook-cell:/c%3A/Users/nrtc/OneDrive/Documentos/AI%20Summer%20School/Competition/C%C3%B3pia_de_imbalanced_data.ipynb#ch0000138?line=3'>4</a>\u001b[0m final_train_features, final_train_labels \u001b[39m=\u001b[39m oversample\u001b[39m.\u001b[39mfit_resample(final_train_features, final_train_labels)\n\u001b[1;32m----> <a href='vscode-notebook-cell:/c%3A/Users/nrtc/OneDrive/Documentos/AI%20Summer%20School/Competition/C%C3%B3pia_de_imbalanced_data.ipynb#ch0000138?line=5'>6</a>\u001b[0m counter \u001b[39m=\u001b[39m Counter(final_train_labels)\n\u001b[0;32m      <a href='vscode-notebook-cell:/c%3A/Users/nrtc/OneDrive/Documentos/AI%20Summer%20School/Competition/C%C3%B3pia_de_imbalanced_data.ipynb#ch0000138?line=6'>7</a>\u001b[0m plt\u001b[39m.\u001b[39mbar(counter\u001b[39m.\u001b[39mkeys(), counter\u001b[39m.\u001b[39mvalues())\n\u001b[0;32m      <a href='vscode-notebook-cell:/c%3A/Users/nrtc/OneDrive/Documentos/AI%20Summer%20School/Competition/C%C3%B3pia_de_imbalanced_data.ipynb#ch0000138?line=7'>8</a>\u001b[0m plt\u001b[39m.\u001b[39mshow()\n",
            "File \u001b[1;32mc:\\Python39\\lib\\collections\\__init__.py:593\u001b[0m, in \u001b[0;36mCounter.__init__\u001b[1;34m(self, iterable, **kwds)\u001b[0m\n\u001b[0;32m    582\u001b[0m \u001b[39m'''Create a new, empty Counter object.  And if given, count elements\u001b[39;00m\n\u001b[0;32m    583\u001b[0m \u001b[39mfrom an input iterable.  Or, initialize the count from another mapping\u001b[39;00m\n\u001b[0;32m    584\u001b[0m \u001b[39mof elements to their counts.\u001b[39;00m\n\u001b[1;32m   (...)\u001b[0m\n\u001b[0;32m    590\u001b[0m \n\u001b[0;32m    591\u001b[0m \u001b[39m'''\u001b[39;00m\n\u001b[0;32m    592\u001b[0m \u001b[39msuper\u001b[39m()\u001b[39m.\u001b[39m\u001b[39m__init__\u001b[39m()\n\u001b[1;32m--> 593\u001b[0m \u001b[39mself\u001b[39m\u001b[39m.\u001b[39mupdate(iterable, \u001b[39m*\u001b[39m\u001b[39m*\u001b[39mkwds)\n",
            "File \u001b[1;32mc:\\Python39\\lib\\collections\\__init__.py:679\u001b[0m, in \u001b[0;36mCounter.update\u001b[1;34m(self, iterable, **kwds)\u001b[0m\n\u001b[0;32m    677\u001b[0m             \u001b[39msuper\u001b[39m()\u001b[39m.\u001b[39mupdate(iterable)\n\u001b[0;32m    678\u001b[0m     \u001b[39melse\u001b[39;00m:\n\u001b[1;32m--> 679\u001b[0m         _count_elements(\u001b[39mself\u001b[39;49m, iterable)\n\u001b[0;32m    680\u001b[0m \u001b[39mif\u001b[39;00m kwds:\n\u001b[0;32m    681\u001b[0m     \u001b[39mself\u001b[39m\u001b[39m.\u001b[39mupdate(kwds)\n",
            "\u001b[1;31mTypeError\u001b[0m: unhashable type: 'numpy.ndarray'"
          ]
        }
      ],
      "source": [
        "from imblearn.combine import SMOTETomek\n",
        "\n",
        "oversample = SMOTETomek()\n",
        "final_train_features, final_train_labels = oversample.fit_resample(final_train_features, final_train_labels)"
      ]
    },
    {
      "cell_type": "code",
      "execution_count": 76,
      "metadata": {},
      "outputs": [
        {
          "data": {
            "image/png": "[encoded data removed]",
            "text/plain": [
              "<Figure size 864x720 with 1 Axes>"
            ]
          },
          "metadata": {
            "needs_background": "light"
          },
          "output_type": "display_data"
        }
      ],
      "source": [
        "counter = Counter(np.argmax(final_train_labels, axis=1))\n",
        "plt.bar(counter.keys(), counter.values())\n",
        "plt.show()"
      ]
    },
    {
      "cell_type": "code",
      "execution_count": 77,
      "metadata": {},
      "outputs": [
        {
          "name": "stdout",
          "output_type": "stream",
          "text": [
            "Model: \"model_13\"\n",
            "_________________________________________________________________\n",
            " Layer (type)                Output Shape              Param #   \n",
            "=================================================================\n",
            " input_14 (InputLayer)       [(None, 17)]              0         \n",
            "                                                                 \n",
            " flatten_13 (Flatten)        (None, 17)                0         \n",
            "                                                                 \n",
            " dense_52 (Dense)            (None, 128)               2304      \n",
            "                                                                 \n",
            " dense_53 (Dense)            (None, 64)                8256      \n",
            "                                                                 \n",
            " dense_54 (Dense)            (None, 32)                2080      \n",
            "                                                                 \n",
            " dense_55 (Dense)            (None, 8)                 264       \n",
            "                                                                 \n",
            "=================================================================\n",
            "Total params: 12,904\n",
            "Trainable params: 12,904\n",
            "Non-trainable params: 0\n",
            "_________________________________________________________________\n",
            "Train Features Shape: (64128, 17) \n",
            "Train Labels Shape: (64128, 8)\n"
          ]
        }
      ],
      "source": [
        "model = make_model()\n",
        "model.summary()\n",
        "print(f'Train Features Shape: {train_features.shape} \\nTrain Labels Shape: {train_labels.shape}')"
      ]
    },
    {
      "cell_type": "code",
      "execution_count": 78,
      "metadata": {},
      "outputs": [
        {
          "name": "stdout",
          "output_type": "stream",
          "text": [
            "Epoch 1/50\n",
            "9227/9227 [==============================] - 20s 2ms/step - loss: 0.6195 - categorical_accuracy: 0.7755 - false_negatives_13: 85701.0000 - prc: 0.8579\n",
            "Epoch 2/50\n",
            "9227/9227 [==============================] - 19s 2ms/step - loss: 0.4896 - categorical_accuracy: 0.8204 - false_negatives_13: 64282.0000 - prc: 0.8984\n",
            "Epoch 3/50\n",
            "9227/9227 [==============================] - 19s 2ms/step - loss: 0.4616 - categorical_accuracy: 0.8312 - false_negatives_13: 58986.0000 - prc: 0.9067\n",
            "Epoch 4/50\n",
            "9227/9227 [==============================] - 20s 2ms/step - loss: 0.4454 - categorical_accuracy: 0.8368 - false_negatives_13: 56323.0000 - prc: 0.9112\n",
            "Epoch 5/50\n",
            "9227/9227 [==============================] - 19s 2ms/step - loss: 0.4330 - categorical_accuracy: 0.8412 - false_negatives_13: 54272.0000 - prc: 0.9147\n",
            "Epoch 6/50\n",
            "9227/9227 [==============================] - 19s 2ms/step - loss: 0.4248 - categorical_accuracy: 0.8433 - false_negatives_13: 53235.0000 - prc: 0.9169\n",
            "Epoch 7/50\n",
            "9227/9227 [==============================] - 19s 2ms/step - loss: 0.4177 - categorical_accuracy: 0.8462 - false_negatives_13: 51975.0000 - prc: 0.9188\n",
            "Epoch 8/50\n",
            "9227/9227 [==============================] - 19s 2ms/step - loss: 0.4114 - categorical_accuracy: 0.8480 - false_negatives_13: 50998.0000 - prc: 0.9204\n",
            "Epoch 9/50\n",
            "9227/9227 [==============================] - 19s 2ms/step - loss: 0.4067 - categorical_accuracy: 0.8499 - false_negatives_13: 50135.0000 - prc: 0.9218\n",
            "Epoch 10/50\n",
            "9227/9227 [==============================] - 19s 2ms/step - loss: 0.4035 - categorical_accuracy: 0.8508 - false_negatives_13: 49893.0000 - prc: 0.9225\n",
            "Epoch 11/50\n",
            "9227/9227 [==============================] - 19s 2ms/step - loss: 0.3992 - categorical_accuracy: 0.8525 - false_negatives_13: 49098.0000 - prc: 0.9238\n",
            "Epoch 12/50\n",
            "9227/9227 [==============================] - 19s 2ms/step - loss: 0.3954 - categorical_accuracy: 0.8538 - false_negatives_13: 48495.0000 - prc: 0.9247\n",
            "Epoch 13/50\n",
            "9227/9227 [==============================] - 19s 2ms/step - loss: 0.3933 - categorical_accuracy: 0.8541 - false_negatives_13: 48208.0000 - prc: 0.9253\n",
            "Epoch 14/50\n",
            "9227/9227 [==============================] - 19s 2ms/step - loss: 0.3906 - categorical_accuracy: 0.8555 - false_negatives_13: 47665.0000 - prc: 0.9259\n",
            "Epoch 15/50\n",
            "9227/9227 [==============================] - 18s 2ms/step - loss: 0.3884 - categorical_accuracy: 0.8558 - false_negatives_13: 47521.0000 - prc: 0.9265\n",
            "Epoch 16/50\n",
            "9227/9227 [==============================] - 17s 2ms/step - loss: 0.3867 - categorical_accuracy: 0.8563 - false_negatives_13: 47239.0000 - prc: 0.9269\n",
            "Epoch 17/50\n",
            "9227/9227 [==============================] - 18s 2ms/step - loss: 0.3840 - categorical_accuracy: 0.8577 - false_negatives_13: 46827.0000 - prc: 0.9276\n",
            "Epoch 18/50\n",
            "9227/9227 [==============================] - 19s 2ms/step - loss: 0.3822 - categorical_accuracy: 0.8585 - false_negatives_13: 46437.0000 - prc: 0.9280\n",
            "Epoch 19/50\n",
            "9227/9227 [==============================] - 19s 2ms/step - loss: 0.3810 - categorical_accuracy: 0.8590 - false_negatives_13: 46353.0000 - prc: 0.9284\n",
            "Epoch 20/50\n",
            "9227/9227 [==============================] - 19s 2ms/step - loss: 0.3790 - categorical_accuracy: 0.8593 - false_negatives_13: 46143.0000 - prc: 0.9290\n",
            "Epoch 21/50\n",
            "9227/9227 [==============================] - 19s 2ms/step - loss: 0.3767 - categorical_accuracy: 0.8601 - false_negatives_13: 45735.0000 - prc: 0.9296\n",
            "Epoch 22/50\n",
            "9227/9227 [==============================] - 19s 2ms/step - loss: 0.3756 - categorical_accuracy: 0.8607 - false_negatives_13: 45573.0000 - prc: 0.9299\n",
            "Epoch 23/50\n",
            "9227/9227 [==============================] - 19s 2ms/step - loss: 0.3744 - categorical_accuracy: 0.8609 - false_negatives_13: 45532.0000 - prc: 0.9303\n",
            "Epoch 24/50\n",
            "9227/9227 [==============================] - 19s 2ms/step - loss: 0.3735 - categorical_accuracy: 0.8611 - false_negatives_13: 45196.0000 - prc: 0.9304\n",
            "Epoch 25/50\n",
            "9227/9227 [==============================] - 19s 2ms/step - loss: 0.3719 - categorical_accuracy: 0.8618 - false_negatives_13: 45007.0000 - prc: 0.9308\n",
            "Epoch 26/50\n",
            "9227/9227 [==============================] - 19s 2ms/step - loss: 0.3711 - categorical_accuracy: 0.8625 - false_negatives_13: 44662.0000 - prc: 0.9310\n",
            "Epoch 27/50\n",
            "9227/9227 [==============================] - 18s 2ms/step - loss: 0.3698 - categorical_accuracy: 0.8624 - false_negatives_13: 44701.0000 - prc: 0.9313\n",
            "Epoch 28/50\n",
            "9227/9227 [==============================] - 19s 2ms/step - loss: 0.3685 - categorical_accuracy: 0.8633 - false_negatives_13: 44461.0000 - prc: 0.9317\n",
            "Epoch 29/50\n",
            "9227/9227 [==============================] - 19s 2ms/step - loss: 0.3681 - categorical_accuracy: 0.8631 - false_negatives_13: 44391.0000 - prc: 0.9317\n",
            "Epoch 30/50\n",
            "9227/9227 [==============================] - 19s 2ms/step - loss: 0.3670 - categorical_accuracy: 0.8634 - false_negatives_13: 44286.0000 - prc: 0.9320\n",
            "Epoch 31/50\n",
            "9227/9227 [==============================] - 19s 2ms/step - loss: 0.3664 - categorical_accuracy: 0.8642 - false_negatives_13: 44109.0000 - prc: 0.9322\n",
            "Epoch 32/50\n",
            "9227/9227 [==============================] - 19s 2ms/step - loss: 0.3655 - categorical_accuracy: 0.8644 - false_negatives_13: 44007.0000 - prc: 0.9323\n",
            "Epoch 33/50\n",
            "9227/9227 [==============================] - 19s 2ms/step - loss: 0.3644 - categorical_accuracy: 0.8647 - false_negatives_13: 43832.0000 - prc: 0.9328\n",
            "Epoch 34/50\n",
            "9227/9227 [==============================] - 19s 2ms/step - loss: 0.3635 - categorical_accuracy: 0.8652 - false_negatives_13: 43667.0000 - prc: 0.9330\n",
            "Epoch 35/50\n",
            "9227/9227 [==============================] - 19s 2ms/step - loss: 0.3627 - categorical_accuracy: 0.8654 - false_negatives_13: 43587.0000 - prc: 0.9331\n",
            "Epoch 36/50\n",
            "9227/9227 [==============================] - 19s 2ms/step - loss: 0.3617 - categorical_accuracy: 0.8658 - false_negatives_13: 43428.0000 - prc: 0.9334\n",
            "Epoch 37/50\n",
            "9227/9227 [==============================] - 18s 2ms/step - loss: 0.3611 - categorical_accuracy: 0.8661 - false_negatives_13: 43367.0000 - prc: 0.9337\n",
            "Epoch 38/50\n",
            "9227/9227 [==============================] - 19s 2ms/step - loss: 0.3608 - categorical_accuracy: 0.8663 - false_negatives_13: 43167.0000 - prc: 0.9338\n",
            "Epoch 39/50\n",
            "9227/9227 [==============================] - 17s 2ms/step - loss: 0.3602 - categorical_accuracy: 0.8659 - false_negatives_13: 43293.0000 - prc: 0.9338\n",
            "Epoch 40/50\n",
            "9227/9227 [==============================] - 17s 2ms/step - loss: 0.3593 - categorical_accuracy: 0.8664 - false_negatives_13: 43119.0000 - prc: 0.9340\n",
            "Epoch 41/50\n",
            "9227/9227 [==============================] - 17s 2ms/step - loss: 0.3590 - categorical_accuracy: 0.8668 - false_negatives_13: 43112.0000 - prc: 0.9341\n",
            "Epoch 42/50\n",
            "9227/9227 [==============================] - 17s 2ms/step - loss: 0.3579 - categorical_accuracy: 0.8669 - false_negatives_13: 43018.0000 - prc: 0.9345\n",
            "Epoch 43/50\n",
            "9227/9227 [==============================] - 17s 2ms/step - loss: 0.3578 - categorical_accuracy: 0.8670 - false_negatives_13: 42963.0000 - prc: 0.9345\n",
            "Epoch 44/50\n",
            "9227/9227 [==============================] - 18s 2ms/step - loss: 0.3572 - categorical_accuracy: 0.8673 - false_negatives_13: 42805.0000 - prc: 0.9346\n",
            "Epoch 45/50\n",
            "9227/9227 [==============================] - 18s 2ms/step - loss: 0.3568 - categorical_accuracy: 0.8675 - false_negatives_13: 42848.0000 - prc: 0.9348\n",
            "Epoch 46/50\n",
            "9227/9227 [==============================] - 19s 2ms/step - loss: 0.3570 - categorical_accuracy: 0.8673 - false_negatives_13: 42727.0000 - prc: 0.9346\n",
            "Epoch 47/50\n",
            "9227/9227 [==============================] - 19s 2ms/step - loss: 0.3559 - categorical_accuracy: 0.8677 - false_negatives_13: 42686.0000 - prc: 0.9350\n",
            "Epoch 48/50\n",
            "9227/9227 [==============================] - 19s 2ms/step - loss: 0.3555 - categorical_accuracy: 0.8683 - false_negatives_13: 42495.0000 - prc: 0.9350\n",
            "Epoch 49/50\n",
            "9227/9227 [==============================] - 24s 3ms/step - loss: 0.3550 - categorical_accuracy: 0.8680 - false_negatives_13: 42423.0000 - prc: 0.9353\n",
            "Epoch 50/50\n",
            "9227/9227 [==============================] - 27s 3ms/step - loss: 0.3546 - categorical_accuracy: 0.8683 - false_negatives_13: 42439.0000 - prc: 0.9354\n"
          ]
        },
        {
          "data": {
            "text/plain": [
              "<keras.callbacks.History at 0x23711db6dc0>"
            ]
          },
          "execution_count": 78,
          "metadata": {},
          "output_type": "execute_result"
        }
      ],
      "source": [
        "model.fit(x=final_train_features, y=final_train_labels, epochs=50)"
      ]
    },
    {
      "cell_type": "code",
      "execution_count": 79,
      "metadata": {},
      "outputs": [
        {
          "name": "stdout",
          "output_type": "stream",
          "text": [
            "1074/1074 [==============================] - 2s 2ms/step\n"
          ]
        },
        {
          "data": {
            "text/plain": [
              "array([1, 1, 1, ..., 1, 1, 1], dtype=int64)"
            ]
          },
          "execution_count": 79,
          "metadata": {},
          "output_type": "execute_result"
        }
      ],
      "source": [
        "predictions = model.predict(final_test_features)\n",
        "predictions = np.argmax(predictions, axis=1)\n",
        "predictions"
      ]
    },
    {
      "cell_type": "code",
      "execution_count": 80,
      "metadata": {},
      "outputs": [
        {
          "data": {
            "image/png": "[encoded data removed]",
            "text/plain": [
              "<Figure size 864x720 with 1 Axes>"
            ]
          },
          "metadata": {
            "needs_background": "light"
          },
          "output_type": "display_data"
        }
      ],
      "source": [
        "counter = Counter(predictions)\n",
        "plt.bar(counter.keys(), counter.values())\n",
        "plt.show()"
      ]
    },
    {
      "cell_type": "code",
      "execution_count": null,
      "metadata": {},
      "outputs": [],
      "source": [
        "pd.DataFrame(predictions, columns=['label']).to_csv('keras_oversampling.csv')"
      ]
    }
  ],
  "metadata": {
    "colab": {
      "collapsed_sections": [],
      "name": "Cópia de imbalanced_data.ipynb",
      "provenance": []
    },
    "gpuClass": "standard",
    "kernelspec": {
      "display_name": "Python 3.9.7 64-bit",
      "language": "python",
      "name": "python3"
    },
    "language_info": {
      "codemirror_mode": {
        "name": "ipython",
        "version": 3
      },
      "file_extension": ".py",
      "mimetype": "text/x-python",
      "name": "python",
      "nbconvert_exporter": "python",
      "pygments_lexer": "ipython3",
      "version": "3.9.7"
    },
    "vscode": {
      "interpreter": {
        "hash": "81794d4967e6c3204c66dcd87b604927b115b27c00565d3d43f05ba2f3a2cb0d"
      }
    }
  },
  "nbformat": 4,
  "nbformat_minor": 0
}
